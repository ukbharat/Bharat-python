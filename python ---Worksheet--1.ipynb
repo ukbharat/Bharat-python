{
 "cells": [
  {
   "cell_type": "code",
   "execution_count": 1,
   "id": "ce6ee01a",
   "metadata": {},
   "outputs": [
    {
     "data": {
      "text/plain": [
       "0"
      ]
     },
     "execution_count": 1,
     "metadata": {},
     "output_type": "execute_result"
    }
   ],
   "source": [
    "2//3"
   ]
  },
  {
   "cell_type": "code",
   "execution_count": 2,
   "id": "0eb8b23b",
   "metadata": {},
   "outputs": [
    {
     "data": {
      "text/plain": [
       "24"
      ]
     },
     "execution_count": 2,
     "metadata": {},
     "output_type": "execute_result"
    }
   ],
   "source": [
    "6<<2"
   ]
  },
  {
   "cell_type": "code",
   "execution_count": 3,
   "id": "b254dfab",
   "metadata": {},
   "outputs": [
    {
     "data": {
      "text/plain": [
       "2"
      ]
     },
     "execution_count": 3,
     "metadata": {},
     "output_type": "execute_result"
    }
   ],
   "source": [
    "6&2"
   ]
  },
  {
   "cell_type": "code",
   "execution_count": 4,
   "id": "80b3cc87",
   "metadata": {},
   "outputs": [
    {
     "data": {
      "text/plain": [
       "6"
      ]
     },
     "execution_count": 4,
     "metadata": {},
     "output_type": "execute_result"
    }
   ],
   "source": [
    "6|2"
   ]
  },
  {
   "cell_type": "code",
   "execution_count": 5,
   "id": "2772242d",
   "metadata": {},
   "outputs": [
    {
     "data": {
      "text/plain": [
       "0"
      ]
     },
     "execution_count": 5,
     "metadata": {},
     "output_type": "execute_result"
    }
   ],
   "source": [
    "1 and 0"
   ]
  },
  {
   "cell_type": "code",
   "execution_count": null,
   "id": "bc879466",
   "metadata": {},
   "outputs": [],
   "source": [
    "None of the above"
   ]
  },
  {
   "cell_type": "code",
   "execution_count": null,
   "id": "012610fb",
   "metadata": {},
   "outputs": [],
   "source": [
    "it is used to raise an exception"
   ]
  },
  {
   "cell_type": "code",
   "execution_count": null,
   "id": "5f618793",
   "metadata": {},
   "outputs": [],
   "source": [
    "in for loop"
   ]
  },
  {
   "cell_type": "code",
   "execution_count": null,
   "id": "dec5ee48",
   "metadata": {},
   "outputs": [],
   "source": [
    "_abc"
   ]
  },
  {
   "cell_type": "code",
   "execution_count": null,
   "id": "6cd45b83",
   "metadata": {},
   "outputs": [],
   "source": [
    "yield"
   ]
  },
  {
   "cell_type": "code",
   "execution_count": null,
   "id": "ea7ce1e2",
   "metadata": {},
   "outputs": [],
   "source": [
    "int, float, strings, lists,"
   ]
  },
  {
   "cell_type": "code",
   "execution_count": null,
   "id": "c76bd6be",
   "metadata": {},
   "outputs": [],
   "source": [
    "2, 3, 5, 7"
   ]
  },
  {
   "cell_type": "code",
   "execution_count": null,
   "id": "263e7624",
   "metadata": {},
   "outputs": [],
   "source": [
    "palindrome (string str,int)"
   ]
  },
  {
   "cell_type": "code",
   "execution_count": null,
   "id": "93b075da",
   "metadata": {},
   "outputs": [],
   "source": []
  }
 ],
 "metadata": {
  "kernelspec": {
   "display_name": "Python 3 (ipykernel)",
   "language": "python",
   "name": "python3"
  },
  "language_info": {
   "codemirror_mode": {
    "name": "ipython",
    "version": 3
   },
   "file_extension": ".py",
   "mimetype": "text/x-python",
   "name": "python",
   "nbconvert_exporter": "python",
   "pygments_lexer": "ipython3",
   "version": "3.9.13"
  }
 },
 "nbformat": 4,
 "nbformat_minor": 5
}
